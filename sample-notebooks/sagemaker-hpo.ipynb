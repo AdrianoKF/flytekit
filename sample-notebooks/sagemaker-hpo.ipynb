{
 "cells": [
  {
   "cell_type": "code",
   "execution_count": 1,
   "metadata": {},
   "outputs": [
    {
     "name": "stdout",
     "output_type": "stream",
     "text": [
      "Connected to localhost:30081\n"
     ]
    }
   ],
   "source": [
    "from flytekit.configuration import set_flyte_config_file, platform\n",
    "set_flyte_config_file(\"notebook-staging.config\")\n",
    "\n",
    "print(\"Connected to {}\".format(platform.URL.get()))\n",
    "\n",
    "def print_console_url(exc):\n",
    "    print(\"http://{}/console/projects/{}/domains/{}/executions/{}\".format(platform.URL.get(), exc.id.project, exc.id.domain, exc.id.name))"
   ]
  },
  {
   "cell_type": "code",
   "execution_count": 2,
   "metadata": {},
   "outputs": [],
   "source": [
    "from flytekit.sdk.tasks import inputs\n",
    "from flytekit.sdk.types import Types\n",
    "from flytekit.sdk.workflow import workflow_class, Input, Output\n",
    "from flytekit.common.tasks.sagemaker import training_job_task, hpo_job_task\n",
    "from flytekit.models.sagemaker import training_job as training_job_models, hpo_job as hpo_job_models\n",
    "from flytekit.sdk.sagemaker import types as _sdk_sagemaker_types\n",
    "xgboost_hyperparameters = {\n",
    "    \"base_score\": \"0.5\",\n",
    "    \"booster\": \"gbtree\",\n",
    "    \"csv_weights\": \"0\",\n",
    "    \"dsplit\": \"row\",\n",
    "    \"grow_policy\": \"depthwise\",\n",
    "    \"lambda_bias\": \"0.0\",\n",
    "    \"max_bin\": \"256\",\n",
    "    \"max_leaves\": \"0\",\n",
    "    \"normalize_type\": \"tree\",\n",
    "    \"objective\": \"reg:linear\",\n",
    "    \"one_drop\": \"0\",\n",
    "    \"prob_buffer_row\": \"1.0\",\n",
    "    \"process_type\": \"default\",\n",
    "    \"rate_drop\": \"0.0\",\n",
    "    \"refresh_leaf\": \"1\",\n",
    "    \"sample_type\": \"uniform\",\n",
    "    \"scale_pos_weight\": \"1.0\",\n",
    "    \"silent\": \"0\",\n",
    "    \"sketch_eps\": \"0.03\",\n",
    "    \"skip_drop\": \"0.0\",\n",
    "    \"tree_method\": \"auto\",\n",
    "    \"tweedie_variance_power\": \"1.5\",\n",
    "    \"updater\": \"grow_colmaker,prune\",\n",
    "}\n",
    "alg_spec = training_job_models.AlgorithmSpecification(\n",
    "    input_mode=_sdk_sagemaker_types.InputMode.FILE,\n",
    "    algorithm_name=_sdk_sagemaker_types.AlgorithmName.XGBOOST,\n",
    "    algorithm_version=\"0.72\",\n",
    "    metric_definitions=[training_job_models.MetricDefinition(name=\"Minimize\", regex=\"validation:error\")]\n",
    ")\n",
    "simple_xgboost_trainingjob_task = training_job_task.SdkSimpleTrainingJobTask(\n",
    "    training_job_config=training_job_models.TrainingJobConfig(\n",
    "        instance_type=\"ml.m4.xlarge\",\n",
    "        instance_count=1,\n",
    "        volume_size_in_gb=25,\n",
    "    ),\n",
    "    algorithm_specification=alg_spec,\n",
    "    cache_version='1',\n",
    "    cacheable=True,\n",
    ")\n",
    "simple_xgboost_hpo_job_task = hpo_job_task.SdkSimpleHPOJobTask(\n",
    "    training_job=simple_xgboost_trainingjob_task,\n",
    "    max_number_of_training_jobs=10,\n",
    "    max_parallel_training_jobs=5,\n",
    "    cache_version='1',\n",
    "    retries=2,\n",
    "    cacheable=True,\n",
    ")"
   ]
  },
  {
   "cell_type": "code",
   "execution_count": 3,
   "metadata": {},
   "outputs": [
    {
     "name": "stdout",
     "output_type": "stream",
     "text": [
      "http://localhost:30081/console/projects/flyteexamples/domains/development/executions/fr6nyvb19q\n"
     ]
    }
   ],
   "source": [
    "from flytekit.models.sagemaker.training_job import StoppingCondition\n",
    "from flytekit.models.sagemaker.hpo_job import HPOJobConfig, HyperparameterTuningObjective\n",
    "from flytekit.models.sagemaker.parameter_ranges import ParameterRanges, CategoricalParameterRange, ContinuousParameterRange, IntegerParameterRange\n",
    "inputs={\n",
    "    \"train\": \"https://raw.githubusercontent.com/jbrownlee/Datasets/master/pima-indians-diabetes.data.csv\",\n",
    "    \"validation\": \"https://raw.githubusercontent.com/jbrownlee/Datasets/master/pima-indians-diabetes.data.csv\",\n",
    "    \"static_hyperparameters\": xgboost_hyperparameters,\n",
    "    \"stopping_condition\": StoppingCondition(\n",
    "        max_runtime_in_seconds=43200,\n",
    "        max_wait_time_in_seconds=43200,\n",
    "    ).to_flyte_idl(),\n",
    "    \"hpo_job_config\": HPOJobConfig(\n",
    "        hyperparameter_ranges=ParameterRanges(\n",
    "            parameter_range_map={\n",
    "                \"num_rounds\": IntegerParameterRange(min_value=1, max_value=100, scaling_type=_sdk_sagemaker_types.HyperparameterScalingType.LOGARITHMIC),\n",
    "                \"max_leaves\": IntegerParameterRange(min_value=0, max_value=5, scaling_type=_sdk_sagemaker_types.HyperparameterScalingType.LINEAR),\n",
    "                \"sketch_eps\": ContinuousParameterRange(min_value=0.01, max_value=0.05, scaling_type=_sdk_sagemaker_types.HyperparameterScalingType.AUTO),\n",
    "            }\n",
    "        ),\n",
    "        tuning_strategy=_sdk_sagemaker_types.HyperparameterTuningStrategy.BAYESIAN,\n",
    "        tuning_objective=HyperparameterTuningObjective(\n",
    "            objective_type=_sdk_sagemaker_types.HyperparameterTuningObjectiveType.MINIMIZE,\n",
    "            metric_name=\"validation:error\",\n",
    "        ),\n",
    "        training_job_early_stopping_type=_sdk_sagemaker_types.TrainingJobEarlyStoppingType.AUTO\n",
    "    ).to_flyte_idl(),\n",
    "}\n",
    "\n",
    "exc = simple_xgboost_hpo_job_task.register_and_launch(\"flyteexamples\", \"development\", inputs=inputs)\n",
    "print_console_url(exc)"
   ]
  },
  {
   "cell_type": "code",
   "execution_count": null,
   "metadata": {},
   "outputs": [],
   "source": []
  }
 ],
 "metadata": {
  "kernelspec": {
   "display_name": "Python 3.7.4 64-bit ('flytekit': virtualenv)",
   "language": "python",
   "name": "python37464bitflytekitvirtualenv72cbb5e9968e4a299c6026c09cce8d4c"
  },
  "language_info": {
   "codemirror_mode": {
    "name": "ipython",
    "version": 3
   },
   "file_extension": ".py",
   "mimetype": "text/x-python",
   "name": "python",
   "nbconvert_exporter": "python",
   "pygments_lexer": "ipython3",
   "version": "3.7.4"
  }
 },
 "nbformat": 4,
 "nbformat_minor": 4
}