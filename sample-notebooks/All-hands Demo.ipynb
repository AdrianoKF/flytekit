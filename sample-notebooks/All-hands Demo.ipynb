{
 "cells": [
  {
   "cell_type": "code",
   "execution_count": 11,
   "metadata": {
    "collapsed": true
   },
   "outputs": [
    {
     "name": "stdout",
     "output_type": "stream",
     "text": [
      "Requirement already up-to-date: boto3 in /usr/local/lib/python3.7/site-packages (1.14.20)\n",
      "Requirement already satisfied, skipping upgrade: s3transfer<0.4.0,>=0.3.0 in /usr/local/lib/python3.7/site-packages (from boto3) (0.3.3)\n",
      "Requirement already satisfied, skipping upgrade: jmespath<1.0.0,>=0.7.1 in /usr/local/lib/python3.7/site-packages (from boto3) (0.9.3)\n",
      "Requirement already satisfied, skipping upgrade: botocore<1.18.0,>=1.17.20 in /usr/local/lib/python3.7/site-packages (from boto3) (1.17.20)\n",
      "Requirement already satisfied, skipping upgrade: python-dateutil<3.0.0,>=2.1 in /usr/local/lib/python3.7/site-packages (from botocore<1.18.0,>=1.17.20->boto3) (2.7.3)\n",
      "Requirement already satisfied, skipping upgrade: urllib3<1.26,>=1.20; python_version != \"3.4\" in /usr/local/lib/python3.7/site-packages (from botocore<1.18.0,>=1.17.20->boto3) (1.23)\n",
      "Requirement already satisfied, skipping upgrade: docutils<0.16,>=0.10 in /usr/local/lib/python3.7/site-packages (from botocore<1.18.0,>=1.17.20->boto3) (0.14)\n",
      "Requirement already satisfied, skipping upgrade: six>=1.5 in /usr/local/lib/python3.7/site-packages (from python-dateutil<3.0.0,>=2.1->botocore<1.18.0,>=1.17.20->boto3) (1.11.0)\n",
      "Requirement already satisfied: pyarrow in /usr/local/lib/python3.7/site-packages (0.17.1)\n",
      "Requirement already satisfied: numpy>=1.14 in /usr/local/lib/python3.7/site-packages (from pyarrow) (1.18.5)\n",
      "Obtaining file:///Users/changhonghsu/src/flytekit\n",
      "Requirement already satisfied, skipping upgrade: flyteidl==0.18.0b1 in /usr/local/lib/python3.7/site-packages (from flytekit==0.10.1b0) (0.18.0b1)\n",
      "Requirement already satisfied, skipping upgrade: click<8.0,>=6.6 in /usr/local/lib/python3.7/site-packages (from flytekit==0.10.1b0) (6.7)\n",
      "Requirement already satisfied, skipping upgrade: croniter<4.0.0,>=0.3.20 in /usr/local/lib/python3.7/site-packages (from flytekit==0.10.1b0) (0.3.34)\n",
      "Requirement already satisfied, skipping upgrade: deprecated<2.0,>=1.0 in /usr/local/lib/python3.7/site-packages (from flytekit==0.10.1b0) (1.2.10)\n",
      "Requirement already satisfied, skipping upgrade: boto3<2.0,>=1.4.4 in /usr/local/lib/python3.7/site-packages (from flytekit==0.10.1b0) (1.14.20)\n",
      "Requirement already satisfied, skipping upgrade: python-dateutil<=2.8.1,>=2.1 in /usr/local/lib/python3.7/site-packages (from flytekit==0.10.1b0) (2.7.3)\n",
      "Requirement already satisfied, skipping upgrade: grpcio<2.0,>=1.3.0 in /usr/local/lib/python3.7/site-packages (from flytekit==0.10.1b0) (1.30.0)\n",
      "Requirement already satisfied, skipping upgrade: protobuf<4,>=3.6.1 in /usr/local/Cellar/protobuf/3.11.4/libexec/lib/python3.7/site-packages (from flytekit==0.10.1b0) (3.11.4)\n",
      "Requirement already satisfied, skipping upgrade: pytimeparse<2.0.0,>=1.1.8 in /usr/local/lib/python3.7/site-packages (from flytekit==0.10.1b0) (1.1.8)\n",
      "Requirement already satisfied, skipping upgrade: pytz<2018.5,>=2017.2 in /usr/local/lib/python3.7/site-packages (from flytekit==0.10.1b0) (2018.4)\n",
      "Requirement already satisfied, skipping upgrade: keyring>=18.0.1 in /usr/local/lib/python3.7/site-packages (from flytekit==0.10.1b0) (21.2.1)\n",
      "Requirement already satisfied, skipping upgrade: requests<3.0.0,>=2.18.4 in /usr/local/lib/python3.7/site-packages (from flytekit==0.10.1b0) (2.19.1)\n",
      "Requirement already satisfied, skipping upgrade: responses>=0.10.7 in /usr/local/lib/python3.7/site-packages (from flytekit==0.10.1b0) (0.10.15)\n",
      "Requirement already satisfied, skipping upgrade: six<2.0.0,>=1.9.0 in /usr/local/lib/python3.7/site-packages (from flytekit==0.10.1b0) (1.11.0)\n",
      "Requirement already satisfied, skipping upgrade: sortedcontainers>=1.5.9<3.0.0 in /usr/local/lib/python3.7/site-packages (from flytekit==0.10.1b0) (2.2.2)\n",
      "Requirement already satisfied, skipping upgrade: statsd<4.0.0,>=3.0.0 in /usr/local/lib/python3.7/site-packages (from flytekit==0.10.1b0) (3.2.2)\n",
      "Requirement already satisfied, skipping upgrade: urllib3<1.25,>=1.22 in /usr/local/lib/python3.7/site-packages (from flytekit==0.10.1b0) (1.23)\n",
      "Requirement already satisfied, skipping upgrade: wrapt<2.0.0,>=1.0.0 in /usr/local/lib/python3.7/site-packages (from flytekit==0.10.1b0) (1.10.11)\n",
      "Requirement already satisfied, skipping upgrade: natsort in /usr/local/lib/python3.7/site-packages (from croniter<4.0.0,>=0.3.20->flytekit==0.10.1b0) (7.0.1)\n",
      "Requirement already satisfied, skipping upgrade: jmespath<1.0.0,>=0.7.1 in /usr/local/lib/python3.7/site-packages (from boto3<2.0,>=1.4.4->flytekit==0.10.1b0) (0.9.3)\n",
      "Requirement already satisfied, skipping upgrade: botocore<1.18.0,>=1.17.20 in /usr/local/lib/python3.7/site-packages (from boto3<2.0,>=1.4.4->flytekit==0.10.1b0) (1.17.20)\n",
      "Requirement already satisfied, skipping upgrade: s3transfer<0.4.0,>=0.3.0 in /usr/local/lib/python3.7/site-packages (from boto3<2.0,>=1.4.4->flytekit==0.10.1b0) (0.3.3)\n",
      "Requirement already satisfied, skipping upgrade: setuptools in /usr/local/lib/python3.7/site-packages (from protobuf<4,>=3.6.1->flytekit==0.10.1b0) (46.0.0)\n",
      "Requirement already satisfied, skipping upgrade: importlib-metadata; python_version < \"3.8\" in /usr/local/lib/python3.7/site-packages (from keyring>=18.0.1->flytekit==0.10.1b0) (1.6.1)\n",
      "Requirement already satisfied, skipping upgrade: idna<2.8,>=2.5 in /usr/local/lib/python3.7/site-packages (from requests<3.0.0,>=2.18.4->flytekit==0.10.1b0) (2.7)\n",
      "Requirement already satisfied, skipping upgrade: certifi>=2017.4.17 in /usr/local/lib/python3.7/site-packages (from requests<3.0.0,>=2.18.4->flytekit==0.10.1b0) (2018.4.16)\n",
      "Requirement already satisfied, skipping upgrade: chardet<3.1.0,>=3.0.2 in /usr/local/lib/python3.7/site-packages (from requests<3.0.0,>=2.18.4->flytekit==0.10.1b0) (3.0.4)\n",
      "Requirement already satisfied, skipping upgrade: docutils<0.16,>=0.10 in /usr/local/lib/python3.7/site-packages (from botocore<1.18.0,>=1.17.20->boto3<2.0,>=1.4.4->flytekit==0.10.1b0) (0.14)\n",
      "Requirement already satisfied, skipping upgrade: zipp>=0.5 in /usr/local/lib/python3.7/site-packages (from importlib-metadata; python_version < \"3.8\"->keyring>=18.0.1->flytekit==0.10.1b0) (3.1.0)\n",
      "Installing collected packages: flytekit\n",
      "  Attempting uninstall: flytekit\n",
      "    Found existing installation: flytekit 0.10.0b0\n",
      "    Uninstalling flytekit-0.10.0b0:\n",
      "      Successfully uninstalled flytekit-0.10.0b0\n",
      "  Running setup.py develop for flytekit\n",
      "Successfully installed flytekit\n"
     ]
    }
   ],
   "source": [
    "import sys\n",
    "!{sys.executable} -m pip install boto3 --upgrade\n",
    "!{sys.executable} -m pip install pyarrow\n",
    "!{sys.executable} -m pip install -U -e .."
   ]
  },
  {
   "cell_type": "code",
   "execution_count": 54,
   "metadata": {},
   "outputs": [
    {
     "name": "stdout",
     "output_type": "stream",
     "text": [
      "Connected to flyte-staging.lyft.net\n"
     ]
    }
   ],
   "source": [
    "from flytekit.configuration import set_flyte_config_file, platform\n",
    "from flytekit.common.tasks.task import SdkTask\n",
    "from flytekit.sdk.workflow import workflow_class, Input, Output\n",
    "from flytekit.models.sagemaker.training_job import StoppingCondition\n",
    "\n",
    "from flytekit.models.sagemaker.hpo_job import HPOJobConfig, HyperparameterTuningObjective\n",
    "from flytekit.models.sagemaker.parameter_ranges import ParameterRanges, CategoricalParameterRange, ContinuousParameterRange, IntegerParameterRange\n",
    "from flytekit.common.tasks.presto_task import SdkPrestoTask\n",
    "from flytekit.sdk.tasks import inputs\n",
    "from flytekit.sdk.tasks import inputs\n",
    "from flytekit.sdk.types import Types\n",
    "from flytekit.sdk.workflow import workflow_class, Input, Output\n",
    "from flytekit.common.tasks.sagemaker import training_job_task, hpo_job_task\n",
    "from flytekit.models.sagemaker import training_job as training_job_models, hpo_job as hpo_job_models\n",
    "from flytekit.sdk.sagemaker import types as _sdk_sagemaker_types\n",
    "from os import environ\n",
    "from flytekit.sdk import test_utils as _test_utils\n",
    "import pandas as pd \n",
    "\n",
    "environ[\"version\"] = \"training_32\"\n",
    "environ[\"spec_version\"] = \"training_32-1\"\n",
    "\n",
    "set_flyte_config_file(\"/Users/changhonghsu/.flyte/notebook-staging.config\")\n",
    "#set_flyte_config_file(\"notebook.config\")\n",
    "\n",
    "print(\"Connected to {}\".format(platform.URL.get()))\n",
    "\n",
    "def print_console_url(exc):\n",
    "    print(\"http://{}/console/projects/{}/domains/{}/executions/{}\".format(platform.URL.get(), exc.id.project, exc.id.domain, exc.id.name))\n",
    "    \n",
    "def print_schema(schema):\n",
    "    with _test_utils.LocalTestFileSystem() as sandbox:\n",
    "        # load schema data\n",
    "        schema.download()\n",
    "        df = pd.read_parquet(schema.local_path)\n",
    "    print(df)    \n",
    "    \n",
    "    \n",
    "# Defining the values of some hyperparameters, which will be used by the TrainingJob \n",
    "xgboost_hyperparameters = {\n",
    "    \"num_round\": \"6\",\n",
    "    \"base_score\": \"0.5\",\n",
    "    \"booster\": \"gbtree\",\n",
    "    \"csv_weights\": \"0\",\n",
    "    \"dsplit\": \"row\",\n",
    "    \"grow_policy\": \"depthwise\",\n",
    "    \"lambda_bias\": \"0.0\",\n",
    "    \"max_bin\": \"256\",\n",
    "    \"normalize_type\": \"tree\",\n",
    "    \"objective\": \"reg:linear\",\n",
    "    \"one_drop\": \"0\",\n",
    "    \"prob_buffer_row\": \"1.0\",\n",
    "    \"process_type\": \"default\",\n",
    "    \"refresh_leaf\": \"1\",\n",
    "    \"sample_type\": \"uniform\",\n",
    "    \"scale_pos_weight\": \"1.0\",\n",
    "    \"silent\": \"0\",\n",
    "    \"skip_drop\": \"0.0\",\n",
    "    \"tree_method\": \"auto\",\n",
    "    \"tweedie_variance_power\": \"1.5\",\n",
    "    \"updater\": \"grow_colmaker,prune\",\n",
    "}\n",
    "\n",
    "# Data transformation task\n",
    "transform_parquet_to_csv = SdkTask.fetch(project=\"flytesnacks\", domain=\"development\", name=\"transform_parquet_to_csv\", version=\"24\")\n",
    "\n",
    "environ[\"version\"] = \"training_39\"\n",
    "environ[\"spec_version\"] = \"training_39-1\""
   ]
  },
  {
   "cell_type": "markdown",
   "metadata": {},
   "source": [
    "# Single-Task Execution Demo\n",
    "Let's say we just kicked off a workflow like this, in which we wrote a **SageMaker SimpleTrainingJob task** to train **an XGBoost model** on a dataset.\n",
    "![XGBoost workflow](wf-failed.png \"Failed workflow\")\n"
   ]
  },
  {
   "cell_type": "markdown",
   "metadata": {},
   "source": [
    "### Oops! The TrainingJob task failed \n",
    "\n",
    "![Failed Execution](failed_exec.png \"Failed exec\")"
   ]
  },
  {
   "cell_type": "markdown",
   "metadata": {},
   "source": [
    "### Let's take a look at the definition of the TrainingJob Task"
   ]
  },
  {
   "cell_type": "code",
   "execution_count": 55,
   "metadata": {},
   "outputs": [],
   "source": [
    "alg_spec = training_job_models.AlgorithmSpecification(\n",
    "    input_mode=_sdk_sagemaker_types.InputMode.FILE,\n",
    "    algorithm_name=_sdk_sagemaker_types.AlgorithmName.XGBOOST,\n",
    "    # ----->>>> BUGGY IMAGE VERSION !! <<<<------\n",
    "    algorithm_version=\"0.72\",\n",
    "    metric_definitions=[\n",
    "        training_job_models.MetricDefinition(name=\"Minimize\", regex=\"validation:error\")\n",
    "    ]\n",
    ")\n",
    "\n",
    "############################\n",
    "# Define a TrainingJob task \n",
    "############################\n",
    "xgboost_train_task = training_job_task.SdkSimpleTrainingJobTask(\n",
    "    training_job_config=training_job_models.TrainingJobConfig(\n",
    "        instance_type=\"ml.m4.xlarge\",\n",
    "        instance_count=1,\n",
    "        volume_size_in_gb=25,\n",
    "    ),\n",
    "    algorithm_specification=alg_spec,\n",
    "    cache_version='3',\n",
    "    cacheable=True,\n",
    ")\n",
    "\n",
    "# Defining inputs for the TrainingJob task\n",
    "training_inputs={\n",
    "    \"train\": \"s3://lyft-modelbuilder/test-datasets/pima/train\",\n",
    "    \"validation\": \"s3://lyft-modelbuilder/test-datasets/pima/validation\",\n",
    "    \"static_hyperparameters\": xgboost_hyperparameters,\n",
    "    \"stopping_condition\": StoppingCondition(\n",
    "        max_runtime_in_seconds=43200,\n",
    "    ).to_flyte_idl(),\n",
    "}\n",
    "\n",
    "\n",
    "# A failed sagemaker task example\n",
    "# https://flyte-staging.lyft.net/console/projects/flyteexamples/domains/development/executions/tlomtoafvh"
   ]
  },
  {
   "cell_type": "markdown",
   "metadata": {},
   "source": [
    "### Let's use the task's `register_and_launch()` method to run the TrainingJob Task standalone\n",
    "... and then you will get a link to the single task execution of our TrainingJob task!"
   ]
  },
  {
   "cell_type": "code",
   "execution_count": 56,
   "metadata": {},
   "outputs": [],
   "source": [
    "training_exc = xgboost_train_task.register_and_launch(\"flyteexamples\", \"development\", \n",
    "                                                      inputs=training_inputs)\n",
    "# print_console_url(training_exc)"
   ]
  },
  {
   "cell_type": "markdown",
   "metadata": {},
   "source": [
    "A working sagemaker task example <br>\n",
    "https://flyte-staging.lyft.net/console/projects/flyteexamples/domains/development/executions/soxtmrw4am"
   ]
  },
  {
   "cell_type": "markdown",
   "metadata": {},
   "source": [
    "## Not just for SageMaker tasks\n",
    "Single task execution **works for other types of task**, too!\n",
    "\n",
    "For example, we have a **Presto task** to pull input data from our database here. <br> \n",
    "We can use single task execution with it for faster iterations as well\n",
    "\n",
    "### Definition of our `get_train_data2` task (A Presto Task)"
   ]
  },
  {
   "cell_type": "code",
   "execution_count": 57,
   "metadata": {},
   "outputs": [
    {
     "name": "stdout",
     "output_type": "stream",
     "text": [
      "Created execution.\n",
      "http://flyte-staging.lyft.net/console/projects/flytekit/domains/development/executions/twcd62vcb2\n",
      "Waiting for execution to complete...\n"
     ]
    }
   ],
   "source": [
    "\n",
    "get_train_data2 = SdkPrestoTask(\n",
    "    task_inputs=inputs(),\n",
    "    #######################\n",
    "    # BUGGY statement below\n",
    "    #######################\n",
    "    statement=\"\"\"\n",
    "    SELECT * \n",
    "    FROM hive.flyte.datacouncildemo_train\n",
    "    \"\"\",\n",
    "    output_schema=Types.Schema(),\n",
    "    discoverable=True,\n",
    "    discovery_version=\"3\",\n",
    ")\n",
    "task_exec = get_train_data2.register_and_launch(\n",
    "    project=\"flytekit\", domain=\"development\", inputs={\"ds\": '2020-07-05'})\n",
    "\n",
    "print(\"Created execution.\")\n",
    "print_console_url(task_exec)\n",
    "print(\"Waiting for execution to complete...\")\n",
    "# task_exec.wait_for_completion()\n",
    "# print(\"Done!\")\n",
    "\n",
    "# print_schema(task_exec.outputs['results'])\n",
    "\n",
    "# a failed example \n",
    "# https://flyte-staging.lyft.net/console/projects/flytekit/domains/development/executions/tktijtxmmj"
   ]
  },
  {
   "cell_type": "markdown",
   "metadata": {},
   "source": [
    "a working example \n",
    "http://flyte-staging.lyft.net/console/projects/flytekit/domains/development/executions/k1f136px87"
   ]
  },
  {
   "cell_type": "code",
   "execution_count": 51,
   "metadata": {},
   "outputs": [
    {
     "name": "stdout",
     "output_type": "stream",
     "text": [
      "Created execution.\n",
      "http://flyte-staging.lyft.net/console/projects/flytekit/domains/development/executions/lvs3rxn8zo\n"
     ]
    }
   ],
   "source": [
    "get_validation_data = SdkPrestoTask(\n",
    "    task_inputs=inputs(),\n",
    "    statement=\"\"\"\n",
    "    SELECT * \n",
    "    FROM hive.flyte.datacouncildemo_validation\n",
    "    \"\"\",\n",
    "    output_schema=Types.Schema(),\n",
    "    discoverable=True,\n",
    "    discovery_version=\"2\",\n",
    ")\n",
    "task_exec = get_validation_data.register_and_launch(project=\"flytekit\", domain=\"development\", inputs={\"ds\": '2020-07-05'})\n",
    "print(\"Created execution.\")\n",
    "# print_console_url(task_exec)\n",
    "\n",
    "# No need to run this. it's just a copy of the training data task.\n",
    "# In a real scenario, we will probably query a huge data set then apply some common algorithm to split the datasets \n",
    "#  (e.g. 20-80)\n",
    "# get_validation_data.register(project=\"flytesnacks\", domain=\"development\", name=\"get_validation_data\", version=environ[\"version\"])"
   ]
  },
  {
   "cell_type": "markdown",
   "metadata": {},
   "source": [
    "# Once you are ready\n",
    "Register your task and launch them from within your workflow!"
   ]
  },
  {
   "cell_type": "code",
   "execution_count": 58,
   "metadata": {
    "scrolled": true
   },
   "outputs": [],
   "source": [
    "get_train_data2.register(project=\"flytesnacks\", domain=\"development\", name=\"get_train_data\", version=environ[\"version\"])\n",
    "get_validation_data.register(project=\"flytesnacks\", domain=\"development\", name=\"get_validation_data\", version=environ[\"version\"])\n",
    "\n",
    "@workflow_class()\n",
    "class TrainingWorkflow(object):    \n",
    "    \n",
    "    ################################\n",
    "    # Invoking the presto tasks you\n",
    "    # finished iterating on\n",
    "    ################################\n",
    "    train_data = get_train_data2()\n",
    "    validation_data = get_validation_data()\n",
    "    \n",
    "    # Transform data\n",
    "    train_csv = transform_parquet_to_csv(input_parquet=train_data.outputs.results)\n",
    "    validation_csv = transform_parquet_to_csv(input_parquet=validation_data.outputs.results)\n",
    "    \n",
    "    ###############################################\n",
    "    # Invoking the SageMaker TrainingJob task \n",
    "    # you finished iterating on\n",
    "    ###############################################\n",
    "    train = xgboost_train_task(\n",
    "        # Using the input we got from the Presto tasks\n",
    "        train=train_csv.outputs.output_csv,\n",
    "        validation=validation_csv.outputs.output_csv,\n",
    "        static_hyperparameters=xgboost_hyperparameters,\n",
    "        stopping_condition=StoppingCondition(max_runtime_in_seconds=43200).to_flyte_idl(),\n",
    "    )\n",
    "    \n",
    "    model = Output(train.outputs.model, sdk_type=Types.Blob)\n",
    "    "
   ]
  },
  {
   "cell_type": "code",
   "execution_count": 38,
   "metadata": {},
   "outputs": [
    {
     "data": {
      "text/plain": [
       "'lp:flyteexamples:development:TrainingWorkflow:training_34-1'"
      ]
     },
     "execution_count": 38,
     "metadata": {},
     "output_type": "execute_result"
    }
   ],
   "source": [
    "\n",
    "TrainingWorkflow.register(project=\"flyteexamples\", domain=\"development\", \n",
    "                          name=\"TrainingWorkflow\", version=environ[\"spec_version\"])\n",
    "TrainingWorkflow_lp = TrainingWorkflow.create_launch_plan()\n",
    "TrainingWorkflow_lp.register(project=\"flyteexamples\", domain=\"development\", name=\"TrainingWorkflow\", version=environ[\"spec_version\"])\n"
   ]
  },
  {
   "cell_type": "code",
   "execution_count": 59,
   "metadata": {},
   "outputs": [
    {
     "name": "stdout",
     "output_type": "stream",
     "text": [
      "http://flyte-staging.lyft.net/console/projects/flyteexamples/domains/development/executions/f653dfdf7f43c4de7910\n"
     ]
    }
   ],
   "source": [
    "exec = TrainingWorkflow_lp.launch(project=\"flyteexamples\", domain=\"development\", inputs={})\n",
    "print_console_url(exec)\n",
    "exec.wait_for_completion()"
   ]
  },
  {
   "cell_type": "markdown",
   "metadata": {},
   "source": [
    "A working example <br> \n",
    "https://flyte-staging.lyft.net/console/projects/flyteexamples/domains/development/executions/fa573357670a04d05ba2"
   ]
  },
  {
   "cell_type": "markdown",
   "metadata": {},
   "source": [
    "# What we've shown ...\n",
    "\n",
    "... is how single-task execution allows users to \n",
    "    - debug and iterate on tasks quickly from within their notebook\n",
    "    - run single queries on Flyte easily without building an image\n",
    "    - easily graduate tasks into full-fledged workflows\n"
   ]
  },
  {
   "cell_type": "code",
   "execution_count": null,
   "metadata": {},
   "outputs": [],
   "source": []
  }
 ],
 "metadata": {
  "kernelspec": {
   "display_name": "Python 3",
   "language": "python",
   "name": "python3"
  },
  "language_info": {
   "codemirror_mode": {
    "name": "ipython",
    "version": 3
   },
   "file_extension": ".py",
   "mimetype": "text/x-python",
   "name": "python",
   "nbconvert_exporter": "python",
   "pygments_lexer": "ipython3",
   "version": "3.7.7"
  }
 },
 "nbformat": 4,
 "nbformat_minor": 4
}
