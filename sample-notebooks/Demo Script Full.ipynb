{
 "cells": [
  {
   "cell_type": "code",
   "execution_count": 1,
   "metadata": {},
   "outputs": [],
   "source": [
    "from __future__ import absolute_import, print_function\n",
    "import pandas as pd\n",
    "import boto3\n",
    "from botocore.client import Config\n",
    "from flytekit.common import utils as _utils\n",
    "from flytekit.sdk import test_utils as _test_utils\n",
    "from flytekit.configuration import set_flyte_config_file\n",
    "from flytekit.common.tasks.presto_task import SdkPrestoTask\n",
    "from flytekit.sdk.tasks import inputs\n",
    "from flytekit.sdk.types import Types\n",
    "\n",
    "set_flyte_config_file(\"/Users/hamabuelfutuh/.flyte/config\")\n",
    "\n",
    "def print_console_url(exc):\n",
    "    print(\"http://flyte.lyft.net/console/projects/{}/domains/{}/executions/{}\".format(exc.id.project, exc.id.domain, exc.id.name)) \n",
    "\n",
    "s3 = boto3.resource('s3',\n",
    "                    endpoint_url='http://localhost:30084',\n",
    "                    aws_access_key_id='minio',\n",
    "                    aws_secret_access_key='miniostorage',\n",
    "                    config=Config(signature_version='s3v4'),\n",
    "                    region_name='us-east-1')\n",
    "\n",
    "def upload_file(f, ref):\n",
    "    mod = ref.lstrip(\"s3://\")\n",
    "    bucket, path = mod.split(\"/\", 1)\n",
    "    s3.Bucket(bucket).upload_file('image.py',path)\n",
    "    \n",
    "from IPython.display import Image, display\n",
    "def display_images(paths):\n",
    "    for p in paths:\n",
    "        display(Image(p))\n",
    "\n",
    "def print_schema(schema):\n",
    "    with _test_utils.LocalTestFileSystem() as sandbox:\n",
    "        # load schema data\n",
    "        schema.download()\n",
    "        df = pd.read_parquet(schema.local_path)\n",
    "    print(df)"
   ]
  },
  {
   "cell_type": "code",
   "execution_count": 4,
   "metadata": {},
   "outputs": [
    {
     "name": "stdout",
     "output_type": "stream",
     "text": [
      "Created execution.\n",
      "http://flyte.lyft.net/console/projects/flytekit/domains/development/executions/zkrlfeonib\n",
      "Waiting for execution to complete...\n",
      "Done!\n"
     ]
    }
   ],
   "source": [
    "get_data_task = SdkPrestoTask(\n",
    "    task_inputs=inputs(ds=Types.String),\n",
    "    statement=\"\"\"\n",
    "    SELECT * \n",
    "    FROM hive.flyte.datacouncildemo_train\n",
    "    \"\"\",\n",
    "    output_schema=Types.Schema(),\n",
    "    discoverable=True,\n",
    "    discovery_version=\"2\",\n",
    ")\n",
    "\n",
    "task_exec = get_data_task.register_and_launch(project=\"flytekit\", domain=\"development\", inputs={\"ds\": '2020-07-05'})\n",
    "print(\"Created execution.\")\n",
    "print_console_url(task_exec)\n",
    "print(\"Waiting for execution to complete...\")\n",
    "task_exec.wait_for_completion()\n",
    "print(\"Done!\")"
   ]
  },
  {
   "cell_type": "code",
   "execution_count": 5,
   "metadata": {},
   "outputs": [
    {
     "name": "stdout",
     "output_type": "stream",
     "text": [
      "    col0 col1 col2 col3 col4  col5   col6 col7 col8\n",
      "0      8  183   64    0    0  23.3  0.672   32    1\n",
      "1      1   89   66   23   94  28.1  0.167   21    0\n",
      "2      0  137   40   35  168  43.1  2.288   33    1\n",
      "3      5  116   74    0    0  25.6  0.201   30    0\n",
      "4      3   78   50   32   88  31.0  0.248   26    1\n",
      "..   ...  ...  ...  ...  ...   ...    ...  ...  ...\n",
      "762   10  101   76   48  180  32.9  0.171   63    0\n",
      "763    2  122   70   27    0  36.8  0.340   27    0\n",
      "764    5  121   72   23  112  26.2  0.245   30    0\n",
      "765    1  126   60    0    0  30.1  0.349   47    1\n",
      "766    1   93   70   31    0  30.4  0.315   23    0\n",
      "\n",
      "[767 rows x 9 columns]\n"
     ]
    }
   ],
   "source": [
    "print_schema(task_exec.outputs['results'])"
   ]
  },
  {
   "cell_type": "code",
   "execution_count": null,
   "metadata": {},
   "outputs": [],
   "source": []
  }
 ],
 "metadata": {
  "kernelspec": {
   "display_name": "Python 3",
   "language": "python",
   "name": "python3"
  },
  "language_info": {
   "codemirror_mode": {
    "name": "ipython",
    "version": 3
   },
   "file_extension": ".py",
   "mimetype": "text/x-python",
   "name": "python",
   "nbconvert_exporter": "python",
   "pygments_lexer": "ipython3",
   "version": "3.7.6"
  }
 },
 "nbformat": 4,
 "nbformat_minor": 4
}
