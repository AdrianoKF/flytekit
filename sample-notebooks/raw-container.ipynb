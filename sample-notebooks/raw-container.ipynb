{
 "cells": [
  {
   "cell_type": "code",
   "execution_count": null,
   "metadata": {},
   "outputs": [],
   "source": [
    "!pip install -e ../.\n",
    "from flytekit.configuration import set_flyte_config_file\n",
    "set_flyte_config_file(\"notebook.config\")"
   ]
  },
  {
   "cell_type": "code",
   "execution_count": 1,
   "metadata": {},
   "outputs": [],
   "source": [
    "import boto3\n",
    "from botocore.client import Config\n",
    "\n",
    "s3 = boto3.resource('s3',\n",
    "                    endpoint_url='http://localhost:30084',\n",
    "                    aws_access_key_id='minio',\n",
    "                    aws_secret_access_key='miniostorage',\n",
    "                    config=Config(signature_version='s3v4'),\n",
    "                    region_name='us-east-1')"
   ]
  },
  {
   "cell_type": "markdown",
   "metadata": {},
   "source": [
    "# Demo: quick remote iteration with an OpenCV Script\n",
    "\n",
    "> filter_edges"
   ]
  },
  {
   "cell_type": "code",
   "execution_count": 2,
   "metadata": {},
   "outputs": [],
   "source": [
    "from image import filter_edges"
   ]
  },
  {
   "cell_type": "code",
   "execution_count": 3,
   "metadata": {},
   "outputs": [],
   "source": [
    "from IPython.display import Image, display\n",
    "def display_images(paths):\n",
    "    for p in paths:\n",
    "        display(Image(p))"
   ]
  },
  {
   "cell_type": "code",
   "execution_count": null,
   "metadata": {},
   "outputs": [],
   "source": [
    "inp = \"image.jpg\"\n",
    "out = \"edges.png\"\n",
    "filter_edges(inp, out)\n",
    "display_images([inp, out])"
   ]
  },
  {
   "cell_type": "code",
   "execution_count": null,
   "metadata": {},
   "outputs": [],
   "source": [
    "from flytekit.common.tasks.raw_container import SdkRawContainerTask\n",
    "from flytekit.sdk.types import Types\n",
    "from flytekit.sdk.workflow import workflow_class, Input, Output\n",
    "\n",
    "edges = SdkRawContainerTask(\n",
    "    input_data_dir=\"/inputs\",\n",
    "    output_data_dir=\"/outputs\",\n",
    "    inputs={\"image\": Types.Blob, \"script\": Types.Blob},\n",
    "    outputs={\"edges\": Types.Blob},\n",
    "    image=\"jjanzic/docker-python3-opencv\",\n",
    "    command=[\"python\", \"/inputs/script\", \"/inputs/image\", \"/outputs/edges\"],\n",
    ")\n",
    "\n",
    "\n",
    "@workflow_class\n",
    "class EdgeDetector(object):\n",
    "    script = Input(Types.Blob)\n",
    "    image = Input(Types.Blob)\n",
    "    edge_task = edges(script=script, image=image)\n",
    "    out =  Output(edge_task.outputs.edges, sdk_type=Types.Blob)\n",
    "\n",
    "EdgeDetector_lp = EdgeDetector.create_launch_plan()    "
   ]
  },
  {
   "cell_type": "code",
   "execution_count": null,
   "metadata": {},
   "outputs": [],
   "source": [
    "edges.register(name=\"EdgeDetectorFunc\", project=\"flyteexamples\", domain=\"development\", version=\"5\")\n",
    "EdgeDetector.register(name=\"EdgeDetector\", project=\"flyteexamples\", domain=\"development\", version=\"5\")\n",
    "EdgeDetector_lp.register(name=\"EdgeDetector\", project=\"flyteexamples\", domain=\"development\", version=\"5\")"
   ]
  },
  {
   "cell_type": "code",
   "execution_count": null,
   "metadata": {},
   "outputs": [],
   "source": [
    "image = \"https://www.naturephotographysimplified.com/wp-content/uploads/2019/06/How-to-get-sharp-images-Birds-in-flight-Bharatpur-Bird-Sanctuary-bird-Photography-by-Prathap-DK-bronze-winged-jacana-Greater-Spotted-Eagle-750x500.jpg\"\n",
    "s3.Bucket('my-s3-bucket').upload_file('image.py','code/image.py')\n",
    "exc = EdgeDetector_lp.execute(\"flyteexamples\", \"development\", inputs={\"script\": \"s3://my-s3-bucket/code/image.py\", \"image\": image})\n",
    "print(\"http://localhost:30081/console/projects/flyteexamples/domains/development/executions/{}\".format(exc.id.name))"
   ]
  },
  {
   "cell_type": "code",
   "execution_count": null,
   "metadata": {},
   "outputs": [],
   "source": [
    "key=\"/gn/ff554920363ff4da1903-edge-task-0/edges\"\n",
    "s3.Bucket('my-s3-bucket').download_file(key,'edges.png')"
   ]
  },
  {
   "cell_type": "code",
   "execution_count": null,
   "metadata": {},
   "outputs": [],
   "source": [
    "display_images([\"edges.png\"])"
   ]
  },
  {
   "cell_type": "code",
   "execution_count": null,
   "metadata": {},
   "outputs": [],
   "source": [
    "import cv2\n",
    "img = cv2.imread(\"image.jpg\", 0)"
   ]
  },
  {
   "cell_type": "code",
   "execution_count": null,
   "metadata": {},
   "outputs": [],
   "source": [
    "img"
   ]
  },
  {
   "cell_type": "code",
   "execution_count": null,
   "metadata": {},
   "outputs": [],
   "source": []
  }
 ],
 "metadata": {
  "kernelspec": {
   "display_name": "Python 3",
   "language": "python",
   "name": "python3"
  },
  "language_info": {
   "codemirror_mode": {
    "name": "ipython",
    "version": 3
   },
   "file_extension": ".py",
   "mimetype": "text/x-python",
   "name": "python",
   "nbconvert_exporter": "python",
   "pygments_lexer": "ipython3",
   "version": "3.7.4-final"
  }
 },
 "nbformat": 4,
 "nbformat_minor": 2
}