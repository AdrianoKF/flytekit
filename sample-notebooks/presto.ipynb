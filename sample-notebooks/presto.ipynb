{
 "cells": [
  {
   "cell_type": "code",
   "execution_count": null,
   "metadata": {},
   "outputs": [
    {
     "name": "stdout",
     "output_type": "stream",
     "text": [
      "env: FLYTE_AUTH_ASSUMABLE_IAM_ROLE=arn:aws:iam::173840052742:role/modelbuilderapibatchworker-staging\n",
      "env: FLYTE_PLATFORM_URL=flyte-staging.lyft.net\n"
     ]
    }
   ],
   "source": [
    "from __future__ import absolute_import, print_function\n",
    "from flytekit.common.tasks.presto_task import SdkPrestoTask\n",
    "from flytekit.sdk.tasks import inputs\n",
    "from flytekit.sdk.types import Types\n",
    "\n",
    "%env FLYTE_AUTH_ASSUMABLE_IAM_ROLE=arn:aws:iam::173840052742:role/modelbuilderapibatchworker-staging\n",
    "%env FLYTE_PLATFORM_URL=flyte-staging.lyft.net\n",
    "                    \n",
    "\n",
    "COUNT_BY_HR_SCHEMA = Types.Schema(\n",
    "    [\n",
    "        (\"total_count\", Types.Integer),\n",
    "        (\"hr\", Types.Integer),\n",
    "    ],\n",
    ")\n",
    "\n",
    "get_data_task = SdkPrestoTask(\n",
    "    task_inputs=inputs(ds=Types.String),\n",
    "    statement=\"\"\"\n",
    "    SELECT\n",
    "        COUNT(*) as total_count, hr\n",
    "    FROM\n",
    "        hive.events.event_ride_dropped_off\n",
    "    WHERE\n",
    "        ds = '{{ .Inputs.ds }}'\n",
    "    GROUP BY \n",
    "        hr\n",
    "    \"\"\",\n",
    "    output_schema=COUNT_BY_HR_SCHEMA,\n",
    "    discoverable=True,\n",
    "    discovery_version=\"1\",\n",
    ")\n",
    "\n",
    "task_exec = get_data_task.register_and_launch(project=\"flytekit\", domain=\"development\", inputs={\"ds\": '2020-06-10'})\n",
    "print(\"Created {}\".format(task_exec.id))\n",
    "task_exec.wait_for_completion()\n",
    "print(\"Done!\")"
   ]
  },
  {
   "cell_type": "code",
   "execution_count": 2,
   "metadata": {},
   "outputs": [
    {
     "data": {
      "text/plain": [
       "{'results': Schema([name: \"total_count\"\n",
       " , name: \"hr\"\n",
       " ]) @ s3://lyft-modelbuilder/v6/dfyelradv6-maingetdatatask-0/ (read-only)}"
      ]
     },
     "execution_count": 2,
     "metadata": {},
     "output_type": "execute_result"
    }
   ],
   "source": [
    "task_exec.outputs"
   ]
  },
  {
   "cell_type": "code",
   "execution_count": 7,
   "metadata": {},
   "outputs": [
    {
     "name": "stdout",
     "output_type": "stream",
     "text": [
      "    total_count  hr\n",
      "0         28566   3\n",
      "1         35750  12\n",
      "2         57582  19\n",
      "3         53997  22\n",
      "4         18806   5\n",
      "5         47072  16\n",
      "6         28434  11\n",
      "7         57291  21\n",
      "8         35121   1\n",
      "9         50795  17\n",
      "10        23870   4\n",
      "11        44494  14\n",
      "12         9214   8\n",
      "13        13961   6\n",
      "14        48692  23\n",
      "15        12013   9\n",
      "16        10924   7\n",
      "17        47528  15\n",
      "18        31953   2\n",
      "19        54788  18\n",
      "20        40832  13\n",
      "21        39763   0\n",
      "22        57391  20\n",
      "23        19496  10\n"
     ]
    }
   ],
   "source": [
    "import pandas as pd\n",
    "from flytekit.common import utils as _utils\n",
    "from flytekit.sdk import test_utils as _test_utils\n",
    "\n",
    "def print_schema(schema):\n",
    "    with _test_utils.LocalTestFileSystem() as sandbox:\n",
    "        # load schema data\n",
    "        schema.download()\n",
    "        column_names = [k for k in COUNT_BY_HR_SCHEMA.columns.keys()]\n",
    "        df = pd.read_parquet(schema.local_path, columns=column_names)\n",
    "    print(df)\n",
    "    \n",
    "print_schema(task_exec.outputs['results'])"
   ]
  },
  {
   "cell_type": "code",
   "execution_count": null,
   "metadata": {},
   "outputs": [],
   "source": []
  },
  {
   "cell_type": "code",
   "execution_count": null,
   "metadata": {},
   "outputs": [],
   "source": []
  }
 ],
 "metadata": {
  "kernelspec": {
   "display_name": "Python 3",
   "language": "python",
   "name": "python3"
  },
  "language_info": {
   "codemirror_mode": {
    "name": "ipython",
    "version": 3
   },
   "file_extension": ".py",
   "mimetype": "text/x-python",
   "name": "python",
   "nbconvert_exporter": "python",
   "pygments_lexer": "ipython3",
   "version": "3.7.6"
  }
 },
 "nbformat": 4,
 "nbformat_minor": 4
}
