{
 "cells": [
  {
   "cell_type": "code",
   "execution_count": null,
   "metadata": {},
   "outputs": [],
   "source": [
    "import scrapbook as sb\n",
    "sb.glue(\"x\", a + 101)\n",
    "sb.glue(\"y\", \"hello, {}\".format(name))"
   ]
  }
 ],
 "metadata": {
  "kernelspec": {
   "language": "python",
   "name": "python",
   "display_name": "Python"
  }
 },
 "nbformat": 4,
 "nbformat_minor": 0
}
