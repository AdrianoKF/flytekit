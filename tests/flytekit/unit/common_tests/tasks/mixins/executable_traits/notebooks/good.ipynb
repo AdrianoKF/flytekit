{
 "cells": [
  {
   "cell_type": "code",
   "execution_count": null,
   "metadata": {},
   "outputs": [],
   "source": [
    "x = a + 101\n",
    "y = \"hello, {}\".format(name)"
   ]
  }
 ],
 "metadata": {
  "kernelspec": {
   "name": "python",
   "display_name": "Python"
  }
 },
 "nbformat": 4,
 "nbformat_minor": 0
}